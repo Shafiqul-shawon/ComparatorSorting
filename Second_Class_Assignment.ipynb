{
  "nbformat": 4,
  "nbformat_minor": 0,
  "metadata": {
    "colab": {
      "provenance": [],
      "toc_visible": true,
      "authorship_tag": "ABX9TyNFAmUx/yVhpF02+o8eCZ4L",
      "include_colab_link": true
    },
    "kernelspec": {
      "name": "python3",
      "display_name": "Python 3"
    },
    "language_info": {
      "name": "python"
    }
  },
  "cells": [
    {
      "cell_type": "markdown",
      "metadata": {
        "id": "view-in-github",
        "colab_type": "text"
      },
      "source": [
        "<a href=\"https://colab.research.google.com/github/Shafiqul-shawon/ComparatorSorting/blob/master/Second_Class_Assignment.ipynb\" target=\"_parent\"><img src=\"https://colab.research.google.com/assets/colab-badge.svg\" alt=\"Open In Colab\"/></a>"
      ]
    },
    {
      "cell_type": "code",
      "execution_count": null,
      "metadata": {
        "id": "PSeR5zJ1RLFC"
      },
      "outputs": [],
      "source": []
    },
    {
      "cell_type": "markdown",
      "source": [
        "2.1. Create variables for your name, age, and favorite color, then print them with descriptive labels."
      ],
      "metadata": {
        "id": "QaMLkZQXRZyC"
      }
    },
    {
      "cell_type": "code",
      "source": [
        "# Creating variables\n",
        "name = \"Shawon\"\n",
        "age = 29\n",
        "Favourite_Colort = \"Blue\"\n",
        "# Printing variables\n",
        "print(\"Name:\", name)\n",
        "print(\"Age:\", age)\n",
        "print(\"Favourite Color:\", Favourite_Colort)"
      ],
      "metadata": {
        "colab": {
          "base_uri": "https://localhost:8080/"
        },
        "id": "jlHVHmvWRhuR",
        "outputId": "4a045a57-2531-4ffa-c964-55d991faf528"
      },
      "execution_count": 2,
      "outputs": [
        {
          "output_type": "stream",
          "name": "stdout",
          "text": [
            "Name: Shawon\n",
            "Age: 29\n",
            "Favourite Color: Blue\n"
          ]
        }
      ]
    },
    {
      "cell_type": "markdown",
      "source": [
        "2.2.Create one variable of each type and use the type() function to verify its type."
      ],
      "metadata": {
        "id": "FW-6Rv6xSSqJ"
      }
    },
    {
      "cell_type": "code",
      "source": [
        "name = \"Tasnim\"\n",
        "age = 25\n",
        "grade=3.29\n",
        "is_valid = True\n",
        "has_paid = False\n",
        "result = None\n",
        "print(type(name))\n",
        "print(type(grade))\n",
        "print(type(age))\n",
        "print(type(result))\n",
        "print(type(is_valid))"
      ],
      "metadata": {
        "colab": {
          "base_uri": "https://localhost:8080/"
        },
        "id": "UmG7XlvbSVSR",
        "outputId": "2675d5d6-ccce-4b20-ae87-62e4b505104e"
      },
      "execution_count": 5,
      "outputs": [
        {
          "output_type": "stream",
          "name": "stdout",
          "text": [
            "<class 'str'>\n",
            "<class 'float'>\n",
            "<class 'str'>\n",
            "<class 'int'>\n",
            "<class 'NoneType'>\n",
            "<class 'bool'>\n"
          ]
        }
      ]
    },
    {
      "cell_type": "markdown",
      "source": [
        "2.3 Calculate the area and perimeter of a rectangle with length 7 and width 5."
      ],
      "metadata": {
        "id": "QdLVxK2STFFS"
      }
    },
    {
      "cell_type": "code",
      "source": [
        "length = 7\n",
        "width = 5\n",
        "area = length * width\n",
        "perimeter = 2 * (length + width)\n",
        "print(\"Area of the rectangle:\", area)\n",
        "print(\"Perimeter of the rectangle:\", perimeter)"
      ],
      "metadata": {
        "colab": {
          "base_uri": "https://localhost:8080/"
        },
        "id": "eCwlFBW2THKB",
        "outputId": "cf8e535e-b894-484b-fc4b-33e52fb49686"
      },
      "execution_count": 6,
      "outputs": [
        {
          "output_type": "stream",
          "name": "stdout",
          "text": [
            "Area of the rectangle: 35\n",
            "Perimeter of the rectangle: 24\n"
          ]
        }
      ]
    },
    {
      "cell_type": "markdown",
      "source": [
        "2.4. Create a list of 5 Bangladeshi foods, then access the first and\n",
        "last elements."
      ],
      "metadata": {
        "id": "TRR_2qVPTt8h"
      }
    },
    {
      "cell_type": "code",
      "source": [
        "\n",
        "Food = [\"Rice\", \"Bread\", \"Fish\", \"Meat\" , \"Vegetable\"]\n",
        "# Accessing elements (indexing starts at 0)\n",
        "print(Food[0]) # apple\n",
        "print(Food[4])\n",
        "Food.append(\"Egg\")\n",
        "print(Food)\n",
        "Food.insert(2, \"Chicken\")\n",
        "print(Food)\n",
        "Food.remove(\"Meat\")\n",
        "print(Food)"
      ],
      "metadata": {
        "colab": {
          "base_uri": "https://localhost:8080/"
        },
        "id": "ulgkVgbJTwvD",
        "outputId": "836c5fad-49d9-422f-a59e-7cdbca96ccc6"
      },
      "execution_count": 8,
      "outputs": [
        {
          "output_type": "stream",
          "name": "stdout",
          "text": [
            "Rice\n",
            "Vegetable\n",
            "['Rice', 'Bread', 'Fish', 'Meat', 'Vegetable', 'Egg']\n",
            "['Rice', 'Bread', 'Chicken', 'Fish', 'Meat', 'Vegetable', 'Egg']\n",
            "['Rice', 'Bread', 'Chicken', 'Fish', 'Vegetable', 'Egg']\n"
          ]
        }
      ]
    },
    {
      "cell_type": "markdown",
      "source": [],
      "metadata": {
        "id": "5cqXxn53SEvz"
      }
    },
    {
      "cell_type": "markdown",
      "source": [
        "2.5 Create a list of 5 numbers, add a new number, remove one, and then sort the list."
      ],
      "metadata": {
        "id": "AG_QCYrFUlTZ"
      }
    },
    {
      "cell_type": "code",
      "source": [
        "number_list = [5,8,9,12,1,82,64]\n",
        "number_list.append(100)\n",
        "number_list.remove(5)\n",
        "number_list.sort()\n",
        "print(number_list)"
      ],
      "metadata": {
        "colab": {
          "base_uri": "https://localhost:8080/"
        },
        "id": "QbHxQVSVUm_o",
        "outputId": "c9374fc8-6fb0-4b4f-ab63-dd30d9cae238"
      },
      "execution_count": 9,
      "outputs": [
        {
          "output_type": "stream",
          "name": "stdout",
          "text": [
            "[1, 8, 9, 12, 64, 82, 100]\n"
          ]
        }
      ]
    }
  ]
}