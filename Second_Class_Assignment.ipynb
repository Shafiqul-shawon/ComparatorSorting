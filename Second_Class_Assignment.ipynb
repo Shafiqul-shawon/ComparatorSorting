{
  "nbformat": 4,
  "nbformat_minor": 0,
  "metadata": {
    "colab": {
      "provenance": [],
      "toc_visible": true,
      "authorship_tag": "ABX9TyNEws5IlKzc+5am1VwGEaxf",
      "include_colab_link": true
    },
    "kernelspec": {
      "name": "python3",
      "display_name": "Python 3"
    },
    "language_info": {
      "name": "python"
    }
  },
  "cells": [
    {
      "cell_type": "markdown",
      "metadata": {
        "id": "view-in-github",
        "colab_type": "text"
      },
      "source": [
        "<a href=\"https://colab.research.google.com/github/Shafiqul-shawon/ComparatorSorting/blob/master/Second_Class_Assignment.ipynb\" target=\"_parent\"><img src=\"https://colab.research.google.com/assets/colab-badge.svg\" alt=\"Open In Colab\"/></a>"
      ]
    },
    {
      "cell_type": "code",
      "execution_count": null,
      "metadata": {
        "id": "PSeR5zJ1RLFC"
      },
      "outputs": [],
      "source": []
    },
    {
      "cell_type": "markdown",
      "source": [
        "2.1. Create variables for your name, age, and favorite color, then print them with descriptive labels."
      ],
      "metadata": {
        "id": "QaMLkZQXRZyC"
      }
    },
    {
      "cell_type": "code",
      "source": [
        "# Creating variables\n",
        "name = \"Shawon\"\n",
        "age = 29\n",
        "Favourite_Colort = \"Blue\"\n",
        "# Printing variables\n",
        "print(\"Name:\", name)\n",
        "print(\"Age:\", age)\n",
        "print(\"Favourite Color:\", Favourite_Colort)"
      ],
      "metadata": {
        "id": "jlHVHmvWRhuR"
      },
      "execution_count": null,
      "outputs": []
    },
    {
      "cell_type": "markdown",
      "source": [
        "2.2.Create one variable of each type and use the type() function to verify its type."
      ],
      "metadata": {
        "id": "FW-6Rv6xSSqJ"
      }
    },
    {
      "cell_type": "code",
      "source": [
        "name = \"Tasnim\"\n",
        "age = 25\n",
        "grade=3.29\n",
        "is_valid = True\n",
        "has_paid = False\n",
        "result = None\n",
        "print(type(name))\n",
        "print(type(grade))\n",
        "print(type(age))\n",
        "print(type(result))\n",
        "print(type(is_valid))"
      ],
      "metadata": {
        "id": "UmG7XlvbSVSR"
      },
      "execution_count": null,
      "outputs": []
    },
    {
      "cell_type": "markdown",
      "source": [
        "2.3 Calculate the area and perimeter of a rectangle with length 7 and width 5."
      ],
      "metadata": {
        "id": "QdLVxK2STFFS"
      }
    },
    {
      "cell_type": "code",
      "source": [
        "length = 7\n",
        "width = 5\n",
        "area = length * width\n",
        "perimeter = 2 * (length + width)\n",
        "print(\"Area of the rectangle:\", area)\n",
        "print(\"Perimeter of the rectangle:\", perimeter)"
      ],
      "metadata": {
        "id": "eCwlFBW2THKB"
      },
      "execution_count": null,
      "outputs": []
    },
    {
      "cell_type": "markdown",
      "source": [
        "2.4. Create a list of 5 Bangladeshi foods, then access the first and\n",
        "last elements."
      ],
      "metadata": {
        "id": "TRR_2qVPTt8h"
      }
    },
    {
      "cell_type": "code",
      "source": [
        "\n",
        "Food = [\"Rice\", \"Bread\", \"Fish\", \"Meat\" , \"Vegetable\"]\n",
        "# Accessing elements (indexing starts at 0)\n",
        "print(Food[0]) # apple\n",
        "print(Food[4])\n",
        "Food.append(\"Egg\")\n",
        "print(Food)\n",
        "Food.insert(2, \"Chicken\")\n",
        "print(Food)\n",
        "Food.remove(\"Meat\")\n",
        "print(Food)"
      ],
      "metadata": {
        "id": "ulgkVgbJTwvD"
      },
      "execution_count": null,
      "outputs": []
    },
    {
      "cell_type": "markdown",
      "source": [
        "2.5 Create a list of 5 numbers, add a new number, remove one, and then sort the list."
      ],
      "metadata": {
        "id": "AG_QCYrFUlTZ"
      }
    },
    {
      "cell_type": "code",
      "source": [
        "number_list = [5,8,9,12,1,82,64]\n",
        "number_list.append(100)\n",
        "number_list.remove(5)\n",
        "number_list.sort()\n",
        "print(number_list)"
      ],
      "metadata": {
        "id": "QbHxQVSVUm_o"
      },
      "execution_count": null,
      "outputs": []
    },
    {
      "cell_type": "markdown",
      "source": [
        "2.6 Create a dictionary about yourself with at least 4 key-value pairs."
      ],
      "metadata": {
        "id": "kZ-InE9U_a81"
      }
    },
    {
      "cell_type": "code",
      "source": [
        "# Creating a dictionary\n",
        "student = {\n",
        "\"name\": \"Shawon\",\n",
        "\"age\": 29,\n",
        "\"university\": \"BUET\",\n",
        "\"courses\": [\"Python\", \"Data Science\", \"Web Development\"]}\n",
        "# Accessing values using keys\n",
        "print(student)\n"
      ],
      "metadata": {
        "id": "r_VzPmaI_geF"
      },
      "execution_count": null,
      "outputs": []
    },
    {
      "cell_type": "markdown",
      "source": [
        "2.7. Create a tuple with the latitude and longitude of a famous place in Bangladesh."
      ],
      "metadata": {
        "id": "Zoq2a4DgBUzU"
      }
    },
    {
      "cell_type": "code",
      "source": [
        "location = (23.7188, 90.3889)\n",
        "\n",
        "print(\"Lalbagh Fort Location (Latitude, Longitude):\", location)"
      ],
      "metadata": {
        "id": "j9oPQVZvBVp0"
      },
      "execution_count": null,
      "outputs": []
    },
    {
      "cell_type": "markdown",
      "source": [
        "2.8. Create two sets of colors and find their union and intersection."
      ],
      "metadata": {
        "id": "-sHx95iaOb5b"
      }
    },
    {
      "cell_type": "code",
      "source": [
        "# Creating a set\n",
        "Color_set_one = {\"White\", \"Black\", \"Orange\", \"Blue\"}\n",
        "Color_set_two = {\"Red\", \"Green\", \"Blue\", \"Violet\"}\n",
        "\n",
        "# Union (all elements from both sets)\n",
        "Color_union = Color_set_one | Color_set_two\n",
        "# Intersection (common elements)\n",
        "Color_intersection = Color_set_one & Color_set_two\n",
        "\n",
        "print(Color_union)\n",
        "print(Color_intersection)"
      ],
      "metadata": {
        "id": "MKHE-s0IOd4y"
      },
      "execution_count": null,
      "outputs": []
    },
    {
      "cell_type": "markdown",
      "source": [
        "2.9 Write a program that checks if a number is positive, negative, or zero."
      ],
      "metadata": {
        "id": "a8LNelD6Plhi"
      }
    },
    {
      "cell_type": "code",
      "source": [
        "a = 100\n",
        "if a > 0:\n",
        "  print(\"positive\")\n",
        "elif a < 0:\n",
        "    print(\"negaitive\")\n",
        "else:\n",
        "    print(\"Zero\")"
      ],
      "metadata": {
        "id": "c7r8ySEUPn0h"
      },
      "execution_count": null,
      "outputs": []
    },
    {
      "cell_type": "markdown",
      "source": [
        "2.10. Write a program that checks eligibility for a discount (student AND under 25, OR senior over 60)."
      ],
      "metadata": {
        "id": "PnPmjdCcQgha"
      }
    },
    {
      "cell_type": "code",
      "source": [
        "Student = 18\n",
        "age= 59\n",
        "if student:\n",
        "  if age < 25:\n",
        "    print (\"Get a discount\")\n",
        "  elif age > 60:\n",
        "    print (\"Get a discount\")\n",
        "  else:\n",
        "    print (\"No discount\")\n",
        "else:\n",
        "  print (\"No discount\")"
      ],
      "metadata": {
        "id": "r9FSwOqrQiuR"
      },
      "execution_count": null,
      "outputs": []
    },
    {
      "cell_type": "markdown",
      "source": [
        "2.11. Write a program that prints the first 10 even numbers\n",
        "using a for or while loop."
      ],
      "metadata": {
        "id": "v36EBvusSWMT"
      }
    },
    {
      "cell_type": "code",
      "source": [
        "i=1\n",
        "count=10\n",
        "while count > 0:\n",
        "  if i%2==0:\n",
        "    print(i)\n",
        "    count-=1\n",
        "  i+=1\n",
        "\n"
      ],
      "metadata": {
        "id": "Ugydtf2BSZH5"
      },
      "execution_count": null,
      "outputs": []
    },
    {
      "cell_type": "markdown",
      "source": [
        "2.12. Write a program that prints a simple number pyramid pattern using nested loops."
      ],
      "metadata": {
        "id": "1yC69kG5TsJS"
      }
    },
    {
      "cell_type": "code",
      "source": [],
      "metadata": {
        "id": "h6srxJksTusY"
      },
      "execution_count": null,
      "outputs": []
    }
  ]
}