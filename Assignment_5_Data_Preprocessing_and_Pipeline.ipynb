{
  "nbformat": 4,
  "nbformat_minor": 0,
  "metadata": {
    "colab": {
      "provenance": [],
      "include_colab_link": true
    },
    "kernelspec": {
      "name": "python3",
      "display_name": "Python 3"
    },
    "language_info": {
      "name": "python"
    }
  },
  "cells": [
    {
      "cell_type": "markdown",
      "metadata": {
        "id": "view-in-github",
        "colab_type": "text"
      },
      "source": [
        "<a href=\"https://colab.research.google.com/github/Shafiqul-shawon/ComparatorSorting/blob/master/Assignment_5_Data_Preprocessing_and_Pipeline.ipynb\" target=\"_parent\"><img src=\"https://colab.research.google.com/assets/colab-badge.svg\" alt=\"Open In Colab\"/></a>"
      ]
    },
    {
      "cell_type": "code",
      "execution_count": 141,
      "metadata": {
        "id": "kxzHrZ-S1J5-",
        "colab": {
          "base_uri": "https://localhost:8080/"
        },
        "outputId": "89e3f31e-baf5-41c2-f8a8-0999cc5e23df"
      },
      "outputs": [
        {
          "output_type": "stream",
          "name": "stdout",
          "text": [
            "Drive already mounted at /content/drive; to attempt to forcibly remount, call drive.mount(\"/content/drive\", force_remount=True).\n"
          ]
        }
      ],
      "source": [
        "#Load the Data\n",
        "import pandas as pd\n",
        "import numpy as np\n",
        "import matplotlib.pyplot as plt\n",
        "import seaborn as sns\n",
        "from sklearn.model_selection import train_test_split, cross_val_score\n",
        "from sklearn.preprocessing import StandardScaler, MinMaxScaler\n",
        "from sklearn.linear_model import LogisticRegression\n",
        "from sklearn.metrics import accuracy_score, classification_report\n",
        "\n",
        "from google.colab import drive\n",
        "drive.mount('/content/drive')\n",
        "import warnings\n",
        "warnings.filterwarnings('ignore')\n",
        "\n"
      ]
    },
    {
      "cell_type": "code",
      "source": [
        "# TODO: Load the housing data\n",
        "df = pd.read_csv('/content/drive/MyDrive/datasets/Housing.csv')\n",
        "\n",
        "# TODO: How many houses are there?\n",
        "print(f\"Number of houses: {df.shape[0]}\")\n",
        "\n",
        "# TODO: Show first 3 houses\n",
        "# Your code here"
      ],
      "metadata": {
        "colab": {
          "base_uri": "https://localhost:8080/"
        },
        "id": "ErLFCYd0h5Tp",
        "outputId": "580d0530-35d5-45d9-9a0a-736f411f84f0"
      },
      "execution_count": 142,
      "outputs": [
        {
          "output_type": "stream",
          "name": "stdout",
          "text": [
            "Number of houses: 545\n"
          ]
        }
      ]
    },
    {
      "cell_type": "code",
      "source": [
        "# Look at Columns\n",
        "# Show all column names\n",
        "print(\"Columns:\")\n",
        "print(df.columns.tolist())\n",
        "\n",
        "# Show data types of columns\n",
        "print(\"Data types:\")\n",
        "print(df.dtypes)"
      ],
      "metadata": {
        "id": "jY6xciSB1fGX",
        "colab": {
          "base_uri": "https://localhost:8080/"
        },
        "outputId": "6863fefd-cc9e-48c1-be49-cff43eb6d436"
      },
      "execution_count": 143,
      "outputs": [
        {
          "output_type": "stream",
          "name": "stdout",
          "text": [
            "Columns:\n",
            "['price', 'area', 'bedrooms', 'bathrooms', 'stories', 'mainroad', 'guestroom', 'basement', 'hotwaterheating', 'airconditioning', 'parking', 'prefarea', 'furnishingstatus']\n",
            "Data types:\n",
            "price                int64\n",
            "area                 int64\n",
            "bedrooms             int64\n",
            "bathrooms            int64\n",
            "stories              int64\n",
            "mainroad            object\n",
            "guestroom           object\n",
            "basement            object\n",
            "hotwaterheating     object\n",
            "airconditioning     object\n",
            "parking              int64\n",
            "prefarea            object\n",
            "furnishingstatus    object\n",
            "dtype: object\n"
          ]
        }
      ]
    },
    {
      "cell_type": "code",
      "source": [
        "# Convert Yes/No to 1/0\n",
        "from sklearn.preprocessing import LabelEncoder\n",
        "\n",
        "for col in [\"mainroad\",\"guestroom\",\"basement\",\n",
        "            \"hotwaterheating\",\"airconditioning\",\"prefarea\"]:\n",
        "    le = LabelEncoder()\n",
        "    df[col] = le.fit_transform(df[col])\n",
        "\n",
        "# Encode furnishingstatus using one-hot encoding\n",
        "df = pd.get_dummies(df, columns=[\"furnishingstatus\"], drop_first=True, dtype=int)\n",
        "\n",
        "print(\"Converted data sample:\")\n",
        "print(df.head())"
      ],
      "metadata": {
        "colab": {
          "base_uri": "https://localhost:8080/"
        },
        "id": "XCle1bfO1G08",
        "outputId": "fcd8853b-fc97-42fa-885c-840b9a9b04ba"
      },
      "execution_count": 144,
      "outputs": [
        {
          "output_type": "stream",
          "name": "stdout",
          "text": [
            "Converted data sample:\n",
            "      price  area  bedrooms  bathrooms  stories  mainroad  guestroom  \\\n",
            "0  13300000  7420         4          2        3         1          0   \n",
            "1  12250000  8960         4          4        4         1          0   \n",
            "2  12250000  9960         3          2        2         1          0   \n",
            "3  12215000  7500         4          2        2         1          0   \n",
            "4  11410000  7420         4          1        2         1          1   \n",
            "\n",
            "   basement  hotwaterheating  airconditioning  parking  prefarea  \\\n",
            "0         0                0                1        2         1   \n",
            "1         0                0                1        3         0   \n",
            "2         1                0                0        2         1   \n",
            "3         1                0                1        3         1   \n",
            "4         1                0                1        2         0   \n",
            "\n",
            "   furnishingstatus_semi-furnished  furnishingstatus_unfurnished  \n",
            "0                                0                             0  \n",
            "1                                0                             0  \n",
            "2                                1                             0  \n",
            "3                                0                             0  \n",
            "4                                0                             0  \n"
          ]
        }
      ]
    },
    {
      "cell_type": "code",
      "source": [
        "# Split into Train and Test\n",
        "# TODO: Split - 80% train, 20% test\n",
        "X = df.drop('price', axis=1)  # Everything except house price\n",
        "y = df['price']                # Only price\n",
        "\n",
        "print(\"X has housing information (Except price) (8 columns)\")\n",
        "print(\"y has amount of price (1 Column)\")\n",
        "\n",
        "# Split: 80% for training, 20% for testing\n",
        "X_train, X_test, y_train, y_test = train_test_split(\n",
        "    X, y,\n",
        "    test_size=0.2,    # 20% for test\n",
        "    random_state=20   # Same result every time\n",
        ")\n",
        "\n",
        "print(f\"\\nWe will train with: {len(X_train)} Houses\")\n",
        "print(f\"We will test with: {len(X_test)} Houses\")"
      ],
      "metadata": {
        "id": "CGWFD9Do1w2J",
        "colab": {
          "base_uri": "https://localhost:8080/"
        },
        "outputId": "efe32814-2f87-47d8-e40f-f845d17bf093"
      },
      "execution_count": 145,
      "outputs": [
        {
          "output_type": "stream",
          "name": "stdout",
          "text": [
            "X has housing information (Except price) (8 columns)\n",
            "y has amount of price (1 Column)\n",
            "\n",
            "We will train with: 436 Houses\n",
            "We will test with: 109 Houses\n"
          ]
        }
      ]
    },
    {
      "cell_type": "code",
      "source": [
        "#Apply StandardScaler\n",
        "# Area is huge (1650-13300), Bedrooms is small (1-6)!\n",
        "#Your Code here\n",
        "scaler = StandardScaler()\n",
        "\n",
        "# Learn from training data and scale it\n",
        "X_train_scaled = scaler.fit_transform(X_train)\n",
        "\n",
        "# Scale test data (just transform, don't fit)\n",
        "X_test_scaled = scaler.transform(X_test)\n"
      ],
      "metadata": {
        "id": "ORsVWo8E18y1"
      },
      "execution_count": 149,
      "outputs": []
    },
    {
      "cell_type": "code",
      "source": [
        "#train and test model\n",
        "#your code here\n",
        "\n",
        "from sklearn.linear_model import LogisticRegression\n",
        "\n",
        "# Create model\n",
        "model = LogisticRegression(max_iter=10000)\n",
        "\n",
        "# Train the model\n",
        "model.fit(X_train_scaled, y_train)\n",
        "print(\"✅ Model trained!\")\n",
        "\n",
        "# Check accuracy on training data\n",
        "train_score = model.score(X_train_scaled, y_train)\n",
        "print(f\"Training accuracy: {train_score:.1%}\")\n",
        "\n",
        "# Check accuracy on test data\n",
        "test_score = model.score(X_test_scaled, y_test)\n",
        "print(f\"Test accuracy: {test_score:.1%}\")"
      ],
      "metadata": {
        "id": "khBlvU-f2QnW",
        "colab": {
          "base_uri": "https://localhost:8080/"
        },
        "outputId": "82a2f0ab-f294-4048-c4c8-32e36df7d946"
      },
      "execution_count": 150,
      "outputs": [
        {
          "output_type": "stream",
          "name": "stdout",
          "text": [
            "✅ Model trained!\n",
            "Training accuracy: 45.4%\n",
            "Test accuracy: 1.8%\n"
          ]
        }
      ]
    },
    {
      "cell_type": "code",
      "source": [
        "import joblib\n",
        "\n",
        "# Save the model\n",
        "joblib.dump(model, 'my_model.pkl')\n",
        "print(\"✅ Model saved as 'my_model.pkl'\")\n",
        "\n",
        "# Save the scaler\n",
        "joblib.dump(scaler, 'my_scaler.pkl')\n",
        "print(\"✅ Scaler saved as 'my_scaler.pkl'\")\n",
        "\n",
        "# Save scaled data as CSV\n",
        "pd.DataFrame(X_train_scaled).to_csv('train_data_scaled.csv', index=False)\n",
        "print(\"✅ Scaled data saved as 'train_data_scaled.csv'\")"
      ],
      "metadata": {
        "colab": {
          "base_uri": "https://localhost:8080/"
        },
        "id": "sdXwbeO88YOT",
        "outputId": "e6fcf7ed-47a8-423a-d63f-fed48f20fc39"
      },
      "execution_count": 151,
      "outputs": [
        {
          "output_type": "stream",
          "name": "stdout",
          "text": [
            "✅ Model saved as 'my_model.pkl'\n",
            "✅ Scaler saved as 'my_scaler.pkl'\n",
            "✅ Scaled data saved as 'train_data_scaled.csv'\n"
          ]
        }
      ]
    },
    {
      "cell_type": "code",
      "source": [
        "# Predict a House Price\n",
        "# New house details:\n",
        "# area=5000, bedrooms=3, bathrooms=2, stories=2,\n",
        "# mainroad=yes, guestroom=no, basement=yes,\n",
        "# hotwaterheating=no, airconditioning=yes,\n",
        "# parking=2, prefarea=yes, furnishingstatus=furnished\n",
        "\n",
        "model = joblib.load('my_model.pkl')\n",
        "scaler = joblib.load('my_scaler.pkl')\n",
        "\n",
        "\n",
        "# Predict a House Price\n",
        "new_house = pd.DataFrame([{\n",
        "    \"area\": 5000, \"bedrooms\": 3, \"bathrooms\": 2, \"stories\": 2,\n",
        "    \"mainroad\": 1, \"guestroom\": 0, \"basement\": 1,\n",
        "    \"hotwaterheating\": 0, \"airconditioning\": 1,\n",
        "    \"parking\": 2, \"prefarea\": 1,\n",
        "    \"furnishingstatus_semi-furnished\": 0,\n",
        "    \"furnishingstatus_unfurnished\": 0\n",
        "}])\n",
        "\n",
        "new_house_scaled = scaler.transform(new_house)\n",
        "predicted_price = model.predict(new_house_scaled)[0]\n",
        "print(f\"Predicted price of the new house: {predicted_price:.2f}\")\n"
      ],
      "metadata": {
        "id": "no5CjmoK2aHb",
        "colab": {
          "base_uri": "https://localhost:8080/"
        },
        "outputId": "da45cf57-cf14-43b3-eeb0-d7726e89ad66"
      },
      "execution_count": 153,
      "outputs": [
        {
          "output_type": "stream",
          "name": "stdout",
          "text": [
            "Predicted price of the new house: 6300000.00\n"
          ]
        }
      ]
    }
  ]
}