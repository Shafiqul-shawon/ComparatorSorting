{
  "nbformat": 4,
  "nbformat_minor": 0,
  "metadata": {
    "colab": {
      "provenance": [],
      "toc_visible": true,
      "authorship_tag": "ABX9TyPzJNTfMn+HxmrJhYRCOI09",
      "include_colab_link": true
    },
    "kernelspec": {
      "name": "python3",
      "display_name": "Python 3"
    },
    "language_info": {
      "name": "python"
    }
  },
  "cells": [
    {
      "cell_type": "markdown",
      "metadata": {
        "id": "view-in-github",
        "colab_type": "text"
      },
      "source": [
        "<a href=\"https://colab.research.google.com/github/Shafiqul-shawon/ComparatorSorting/blob/master/Skill_Morph_class1.ipynb\" target=\"_parent\"><img src=\"https://colab.research.google.com/assets/colab-badge.svg\" alt=\"Open In Colab\"/></a>"
      ]
    },
    {
      "cell_type": "code",
      "execution_count": 3,
      "metadata": {
        "colab": {
          "base_uri": "https://localhost:8080/"
        },
        "id": "-j4wbbm_qj9w",
        "outputId": "1425131c-d8ec-45d3-b108-c76dda23898f"
      },
      "outputs": [
        {
          "output_type": "stream",
          "name": "stdout",
          "text": [
            "Welcome to skill Morph\n"
          ]
        }
      ],
      "source": [
        "print (\"Welcome to skill Morph\")"
      ]
    },
    {
      "cell_type": "code",
      "source": [
        "23+45"
      ],
      "metadata": {
        "colab": {
          "base_uri": "https://localhost:8080/"
        },
        "id": "CEea3UG3rijy",
        "outputId": "ac4447dc-ca51-4ae8-ea99-313da8da2f94"
      },
      "execution_count": 4,
      "outputs": [
        {
          "output_type": "execute_result",
          "data": {
            "text/plain": [
              "68"
            ]
          },
          "metadata": {},
          "execution_count": 4
        }
      ]
    },
    {
      "cell_type": "markdown",
      "source": [
        "# Chapter **1**"
      ],
      "metadata": {
        "id": "tqzni_DQrk1J"
      }
    },
    {
      "cell_type": "code",
      "source": [],
      "metadata": {
        "id": "HZTSrAZkroJ1"
      },
      "execution_count": 4,
      "outputs": []
    },
    {
      "cell_type": "markdown",
      "source": [
        "## **subchapter 1**"
      ],
      "metadata": {
        "id": "tz353xoYrpWY"
      }
    }
  ]
}